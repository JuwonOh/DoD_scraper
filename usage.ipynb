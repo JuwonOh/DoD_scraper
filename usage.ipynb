{
 "cells": [
  {
   "cell_type": "code",
   "execution_count": 1,
   "metadata": {
    "scrolled": true
   },
   "outputs": [
    {
     "name": "stdout",
     "output_type": "stream",
     "text": [
      "get briefing statement urls 0 / 2\n",
      "get briefing statement urls 1 / 2\n",
      "get briefing statement urls 2 / 2\n",
      "30 news_urls for all news\n",
      "get briefing statement urls 1 / 2\n",
      "get briefing statement urls 2 / 2\n",
      "30 trans_urls for all news\n",
      "get briefing statement urls 1 / 2\n",
      "get briefing statement urls 2 / 2\n",
      "60 release_urls for all news\n",
      "get briefing statement urls 1 / 2\n",
      "get briefing statement urls 2 / 2\n",
      "60 advisor_urls for all news\n",
      "get briefing statement urls 1 / 2\n",
      "get briefing statement urls 2 / 2\n",
      "60 speech_urls for all news\n"
     ]
    }
   ],
   "source": [
    "import time\n",
    "import DoD_scraper\n",
    "from DoD_scraper import get_news_urls\n",
    "from DoD_scraper import get_trans_urls\n",
    "from DoD_scraper import get_release_urls\n",
    "from DoD_scraper import get_advisor_urls\n",
    "from DoD_scraper import get_speech_urls\n",
    "\n",
    "news_urls = get_news_urls(begin_page=1, end_page=2, verbose=True)\n",
    "print('%d news_urls for all news' % len(news_urls))\n",
    "trans_urls = get_trans_urls(begin_page=1, end_page=2, verbose=True)\n",
    "print('%d trans_urls for all news' % len(trans_urls))\n",
    "release_urls = get_release_urls(begin_page=1, end_page=2, verbose=True)\n",
    "print('%d release_urls for all news' % len(release_urls))\n",
    "advisor_urls = get_advisor_urls(begin_page=1, end_page=2, verbose=True)\n",
    "print('%d advisor_urls for all news' % len(advisor_urls))\n",
    "speech_urls = get_speech_urls(begin_page=1, end_page=2, verbose=True)\n",
    "print('%d speech_urls for all news' % len(speech_urls))"
   ]
  },
  {
   "cell_type": "code",
   "execution_count": 2,
   "metadata": {
    "scrolled": true
   },
   "outputs": [
    {
     "name": "stdout",
     "output_type": "stream",
     "text": [
      "title : Dunford Welcomes Thai Counterpart for Talks on Military Relationship ..\n",
      "time : Jan. 29, 2019 ..\n",
      "content : NewsBy Jim Garamone                                                                                  ..\n",
      "url : http://dod.defense.gov/News/Article/Article/1743177/dunford-welcomes-thai-counterpart-for-talks-on-m ..\n",
      "scrap_time : 2019-01-31 13:25:00 ..\n",
      "\n",
      "\n",
      "title : DOD Officials Testify on Military Support to Southwest Border  ..\n",
      "time : Jan. 29, 2019 ..\n",
      "content : NewsBy Jim Garamone                                                                                  ..\n",
      "url : http://dod.defense.gov/News/Article/Article/1743120/dod-officials-testify-on-military-support-to-sou ..\n",
      "scrap_time : 2019-01-31 13:25:00 ..\n",
      "\n",
      "\n",
      "title : Shanahan Encouraged by NATO Progress on Operations, Burden-Sharing ..\n",
      "time : Jan. 28, 2019 ..\n",
      "content : NewsBy Jim Garamone                                                                                  ..\n",
      "url : http://dod.defense.gov/News/Article/Article/1741948/shanahan-encouraged-by-nato-progress-on-operatio ..\n",
      "scrap_time : 2019-01-31 13:25:00 ..\n",
      "\n",
      "\n",
      "title : Off-Camera Press Briefing in the Pentagon Briefing Room ..\n",
      "time : Jan. 29, 2019 ..\n",
      "content : Transcript                                ACTING SECRETARY OF DEFENSE PATRICK SHANAHAN: So, I think  ..\n",
      "url : https://dod.defense.gov/News/Transcripts/Transcript-View/Article/1743317/off-camera-press-briefing-i ..\n",
      "scrap_time : 2019-01-31 13:25:00 ..\n",
      "\n",
      "\n",
      "title : Media Availability with Acting Secretary Shanahan before Enhanced Honor Cordon with NATO Secretary G ..\n",
      "time : Jan. 28, 2019 ..\n",
      "content : Transcript                                ACTING SECRETARY OF DEFENSE PATRICK SHANAHAN: We’re going  ..\n",
      "url : https://dod.defense.gov/News/Transcripts/Transcript-View/Article/1742109/media-availability-with-act ..\n",
      "scrap_time : 2019-01-31 13:25:00 ..\n",
      "\n",
      "\n",
      "title : Remarks By Acting Secretary Shanahan at an Enhanced Honor Cordon and Meeting Welcoming NATO Secretar ..\n",
      "time : Jan. 28, 2019 ..\n",
      "content : Transcript                                ACTING SECRETARY OF DEFENSE PATRICK SHANAHAN: OK, everybod ..\n",
      "url : https://dod.defense.gov/News/Transcripts/Transcript-View/Article/1742100/remarks-by-acting-secretary ..\n",
      "scrap_time : 2019-01-31 13:25:00 ..\n",
      "\n",
      "\n",
      "title : General Officer Assignments ..\n",
      "time : Jan. 30, 2019 ..\n",
      "content : News ReleaseRelease No: NR-018-19                                The chief of staff, Army announces  ..\n",
      "url : http://dod.defense.gov/News/News-Releases/News-Release-View/Article/1744371/general-officer-assignme ..\n",
      "scrap_time : 2019-01-31 13:25:01 ..\n",
      "\n",
      "\n",
      "title : Navy to Commission Submarine South Dakota ..\n",
      "time : Jan. 30, 2019 ..\n",
      "content : News ReleaseRelease No: NR-017-19                                The Navy will commission its newest ..\n",
      "url : http://dod.defense.gov/News/News-Releases/News-Release-View/Article/1744106/navy-to-commission-subma ..\n",
      "scrap_time : 2019-01-31 13:25:01 ..\n",
      "\n",
      "\n",
      "title : Readout of Acting Secretary of Defense Patrick M. Shanahan’s Meeting with NATO Secretary General Jen ..\n",
      "time : Jan. 28, 2019 ..\n",
      "content : News ReleaseRelease No: NR-016-19                                Acting Chief Pentagon Spokesperson  ..\n",
      "url : http://dod.defense.gov/News/News-Releases/News-Release-View/Article/1742285/readout-of-acting-secret ..\n",
      "scrap_time : 2019-01-31 13:25:01 ..\n",
      "\n",
      "\n",
      "title : Acting Secretary of Defense Patrick M. Shanahan to Brief at 9:30 a.m. on Tuesday, Jan 29.   ..\n",
      "time : Jan. 28, 2019 ..\n",
      "content : Press AdvisoryRelease No: PA-004-19                                Acting Secretary of Defense Patri ..\n",
      "url : https://dod.defense.gov/News/Press-Advisories/Press-Advisory-View/Article/1742321/acting-secretary-o ..\n",
      "scrap_time : 2019-01-31 13:25:01 ..\n",
      "\n",
      "\n",
      "title : Pentagon to Brief on Missile Defense Review on Thursday, Jan. 17, 2019 ..\n",
      "time : Jan. 16, 2019 ..\n",
      "content : Jan. Press AdvisoryRelease No: PA-003-19                                Under Secretary of Defense f ..\n",
      "url : https://dod.defense.gov/News/Press-Advisories/Press-Advisory-View/Article/1733817/pentagon-to-brief- ..\n",
      "scrap_time : 2019-01-31 13:25:01 ..\n",
      "\n",
      "\n",
      "title : Guantanamo Periodic Review Board Media Invitation Announced ..\n",
      "time : Jan. 15, 2019 ..\n",
      "content : Press AdvisoryRelease No: PA-002-19                                The Department of Defense will al ..\n",
      "url : https://dod.defense.gov/News/Press-Advisories/Press-Advisory-View/Article/1732805/guantanamo-periodi ..\n",
      "scrap_time : 2019-01-31 13:25:01 ..\n",
      "\n",
      "\n",
      "title : Remarks By Secretary Mattis at Pentagon September 11 Memorial Service ..\n",
      "time : Sept. 11, 2018 ..\n",
      "content : SpeechPress Operations                                SECRETARY OF DEFENSE JAMES N. MATTIS: Thank yo ..\n",
      "url : https://dod.defense.gov/News/Speeches/Speech-View/Article/1627866/remarks-by-secretary-mattis-at-pen ..\n",
      "scrap_time : 2019-01-31 13:25:02 ..\n",
      "\n",
      "\n",
      "title : 100 YEARS OF MATESHIP ..\n",
      "time : June 27, 2018 ..\n",
      "content : SpeechPress OperationsMinister Cash, Ambassador Hockey, General Campbell, Chairman Dunford, Represen ..\n",
      "url : https://dod.defense.gov/News/Speeches/Speech-View/Article/1561976/100-years-of-mateship/ ..\n",
      "scrap_time : 2019-01-31 13:25:02 ..\n",
      "\n",
      "\n",
      "title : Remarks at Bilateral Meeting with Estonian Minister of Defence Luik ..\n",
      "time : March 7, 2018 ..\n",
      "content : SpeechPress OperationsMr. Minister, Ambassador – it’s good to have you here. You and your delegation ..\n",
      "url : https://dod.defense.gov/News/Speeches/Speech-View/Article/1460918/remarks-at-bilateral-meeting-with- ..\n",
      "scrap_time : 2019-01-31 13:25:02 ..\n",
      "\n",
      "\n"
     ]
    }
   ],
   "source": [
    "from DoD_scraper import parse_page\n",
    "def pprint(json_object):\n",
    "    for k, v in json_object.items():\n",
    "        print('{} : {} ..'.format(k, str(v)[:100]))\n",
    "    print('\\n')\n",
    "\n",
    "SLEEP = 0.5\n",
    "\n",
    "\n",
    "for url in news_urls[:3]:\n",
    "    json_object = parse_page(url)\n",
    "    pprint(json_object)\n",
    "    \n",
    "for url in trans_urls[:3]:\n",
    "    json_object = parse_page(url)\n",
    "    pprint(json_object)\n",
    "\n",
    "for url in release_urls[:3]:\n",
    "    json_object = parse_page(url)\n",
    "    pprint(json_object)\n",
    "    \n",
    "for url in advisor_urls[:3]:\n",
    "    json_object = parse_page(url)\n",
    "    pprint(json_object)    \n",
    "    \n",
    "for url in speech_urls[:3]:\n",
    "    json_object = parse_page(url)\n",
    "    pprint(json_object)"
   ]
  },
  {
   "cell_type": "code",
   "execution_count": 3,
   "metadata": {},
   "outputs": [
    {
     "name": "stdout",
     "output_type": "stream",
     "text": [
      "[1 / 5] (Jan. 29, 2019) Dunford Welcomes Thai Counterpart for Talks on Military Relationship\n",
      "[2 / 5] (Jan. 29, 2019) DOD Officials Testify on Military Support to Southwest Border \n",
      "[3 / 5] (Jan. 28, 2019) Shanahan Encouraged by NATO Progress on Operations, Burden-Sharing\n",
      "[4 / 5] (Jan. 25, 2019) Official Explains Federal Tax Changes for Military, Spouses\n",
      "[5 / 5] (Jan. 23, 2019) New Strategy Encourages Innovation, Better Intel Sharing\n"
     ]
    }
   ],
   "source": [
    "from DoD_scraper import get_latest_allnews\n",
    "\n",
    "begin_date = '2018-07-01'\n",
    "max_num = 5\n",
    "sleep = 1.0\n",
    "\n",
    "for i, json_obj in enumerate(get_latest_allnews(begin_date, max_num, sleep)):\n",
    "    title = json_obj['title']\n",
    "    time = json_obj['time']\n",
    "    print('[{} / {}] ({}) {}'.format(i+1, max_num, time, title))"
   ]
  },
  {
   "cell_type": "code",
   "execution_count": 4,
   "metadata": {},
   "outputs": [
    {
     "name": "stdout",
     "output_type": "stream",
     "text": [
      "[1 / 5] (Jan. 28, 2019) Acting Secretary of Defense Patrick M. Shanahan to Brief at 9:30 a.m. on Tuesday, Jan 29.  \n",
      "[2 / 5] (Jan. 16, 2019) Pentagon to Brief on Missile Defense Review on Thursday, Jan. 17, 2019\n",
      "[3 / 5] (Jan. 15, 2019) Guantanamo Periodic Review Board Media Invitation Announced\n",
      "[4 / 5] (Jan. 2, 2019) Military Commissions Media Invitation Announced for United States v. Khalid Shaikh Mohammad et al.\n",
      "[5 / 5] (Dec. 20, 2018) DOD Releases 2019 CONUS COLA Rates\n"
     ]
    }
   ],
   "source": [
    "from DoD_scraper import get_latest_advisor\n",
    "\n",
    "begin_date = '2018-07-01'\n",
    "max_num = 5\n",
    "sleep = 1.0\n",
    "\n",
    "for i, json_obj in enumerate(get_latest_advisor(begin_date, max_num, sleep)):\n",
    "    title = json_obj['title']\n",
    "    time = json_obj['time']\n",
    "    print('[{} / {}] ({}) {}'.format(i+1, max_num, time, title))"
   ]
  },
  {
   "cell_type": "code",
   "execution_count": 5,
   "metadata": {},
   "outputs": [
    {
     "name": "stdout",
     "output_type": "stream",
     "text": [
      "[1 / 5] (Jan. 29, 2019) Dunford Welcomes Thai Counterpart for Talks on Military Relationship\n",
      "[2 / 5] (Jan. 29, 2019) DOD Officials Testify on Military Support to Southwest Border \n",
      "[3 / 5] (Jan. 28, 2019) Shanahan Encouraged by NATO Progress on Operations, Burden-Sharing\n",
      "[4 / 5] (Jan. 25, 2019) Official Explains Federal Tax Changes for Military, Spouses\n",
      "[5 / 5] (Jan. 23, 2019) New Strategy Encourages Innovation, Better Intel Sharing\n"
     ]
    }
   ],
   "source": [
    "from DoD_scraper import get_latest_allrelease\n",
    "\n",
    "\n",
    "begin_date = '2018-07-01'\n",
    "max_num = 5\n",
    "sleep = 1.0\n",
    "\n",
    "for i, json_obj in enumerate(get_latest_allnews(begin_date, max_num, sleep)):\n",
    "    title = json_obj['title']\n",
    "    time = json_obj['time']\n",
    "    print('[{} / {}] ({}) {}'.format(i+1, max_num, time, title))"
   ]
  },
  {
   "cell_type": "code",
   "execution_count": 6,
   "metadata": {},
   "outputs": [
    {
     "name": "stdout",
     "output_type": "stream",
     "text": [
      "[1 / 5] (Jan. 29, 2019) Off-Camera Press Briefing in the Pentagon Briefing Room\n",
      "[2 / 5] (Jan. 28, 2019) Media Availability with Acting Secretary Shanahan before Enhanced Honor Cordon with NATO Secretary General Stoltenberg\n",
      "[3 / 5] (Jan. 28, 2019) Remarks By Acting Secretary Shanahan at an Enhanced Honor Cordon and Meeting Welcoming NATO Secretary General Stoltenberg to the Pentagon\n",
      "[4 / 5] (Jan. 17, 2019) Department Of Defense Off-Camera Press Briefing on the 2019 Missile Defense Review\n",
      "[5 / 5] (Jan. 16, 2019) Remarks by Acting Secretary Shanahan at an Enhanced Honor Cordon and Meeting Welcoming Japanese Minister Of Defense Takeshi Iwaya to the Pentagon\n"
     ]
    }
   ],
   "source": [
    "from DoD_scraper import get_latest_alltrans\n",
    "\n",
    "begin_date = '2018-07-01'\n",
    "max_num = 5\n",
    "sleep = 1.0\n",
    "\n",
    "for i, json_obj in enumerate(get_latest_alltrans(begin_date, max_num, sleep)):\n",
    "    title = json_obj['title']\n",
    "    time = json_obj['time']\n",
    "    print('[{} / {}] ({}) {}'.format(i+1, max_num, time, title))"
   ]
  },
  {
   "cell_type": "code",
   "execution_count": 7,
   "metadata": {},
   "outputs": [
    {
     "ename": "ValueError",
     "evalue": "time data 'Sept. 11, 2018' does not match format '%b. %d, %Y'",
     "output_type": "error",
     "traceback": [
      "\u001b[1;31m---------------------------------------------------------------------------\u001b[0m",
      "\u001b[1;31mValueError\u001b[0m                                Traceback (most recent call last)",
      "\u001b[1;32m<ipython-input-7-36a119d9d924>\u001b[0m in \u001b[0;36m<module>\u001b[1;34m()\u001b[0m\n\u001b[0;32m      5\u001b[0m \u001b[0msleep\u001b[0m \u001b[1;33m=\u001b[0m \u001b[1;36m1.0\u001b[0m\u001b[1;33m\u001b[0m\u001b[0m\n\u001b[0;32m      6\u001b[0m \u001b[1;33m\u001b[0m\u001b[0m\n\u001b[1;32m----> 7\u001b[1;33m \u001b[1;32mfor\u001b[0m \u001b[0mi\u001b[0m\u001b[1;33m,\u001b[0m \u001b[0mjson_obj\u001b[0m \u001b[1;32min\u001b[0m \u001b[0menumerate\u001b[0m\u001b[1;33m(\u001b[0m\u001b[0mget_latest_speech\u001b[0m\u001b[1;33m(\u001b[0m\u001b[0mbegin_date\u001b[0m\u001b[1;33m,\u001b[0m \u001b[0mmax_num\u001b[0m\u001b[1;33m,\u001b[0m \u001b[0msleep\u001b[0m\u001b[1;33m)\u001b[0m\u001b[1;33m)\u001b[0m\u001b[1;33m:\u001b[0m\u001b[1;33m\u001b[0m\u001b[0m\n\u001b[0m\u001b[0;32m      8\u001b[0m     \u001b[0mtitle\u001b[0m \u001b[1;33m=\u001b[0m \u001b[0mjson_obj\u001b[0m\u001b[1;33m[\u001b[0m\u001b[1;34m'title'\u001b[0m\u001b[1;33m]\u001b[0m\u001b[1;33m\u001b[0m\u001b[0m\n\u001b[0;32m      9\u001b[0m     \u001b[0mtime\u001b[0m \u001b[1;33m=\u001b[0m \u001b[0mjson_obj\u001b[0m\u001b[1;33m[\u001b[0m\u001b[1;34m'time'\u001b[0m\u001b[1;33m]\u001b[0m\u001b[1;33m\u001b[0m\u001b[0m\n",
      "\u001b[1;32m~\\Documents\\github\\DoD_scraper\\DoD_scraper\\scraper.py\u001b[0m in \u001b[0;36mget_latest_speech\u001b[1;34m(begin_date, max_num, sleep)\u001b[0m\n\u001b[0;32m    473\u001b[0m \u001b[1;33m\u001b[0m\u001b[0m\n\u001b[0;32m    474\u001b[0m             \u001b[1;31m# check date\u001b[0m\u001b[1;33m\u001b[0m\u001b[1;33m\u001b[0m\u001b[0m\n\u001b[1;32m--> 475\u001b[1;33m             \u001b[0md_news\u001b[0m \u001b[1;33m=\u001b[0m \u001b[0mstrf_to_datetime\u001b[0m\u001b[1;33m(\u001b[0m\u001b[0mnews_json\u001b[0m\u001b[1;33m[\u001b[0m\u001b[1;34m'time'\u001b[0m\u001b[1;33m]\u001b[0m\u001b[1;33m,\u001b[0m \u001b[0mnews_dateformat\u001b[0m\u001b[1;33m)\u001b[0m\u001b[1;33m\u001b[0m\u001b[0m\n\u001b[0m\u001b[0;32m    476\u001b[0m             \u001b[1;32mif\u001b[0m \u001b[0md_begin\u001b[0m \u001b[1;33m>\u001b[0m \u001b[0md_news\u001b[0m\u001b[1;33m:\u001b[0m\u001b[1;33m\u001b[0m\u001b[0m\n\u001b[0;32m    477\u001b[0m                 \u001b[0moutdate\u001b[0m \u001b[1;33m=\u001b[0m \u001b[1;32mTrue\u001b[0m\u001b[1;33m\u001b[0m\u001b[0m\n",
      "\u001b[1;32m~\\Documents\\github\\DoD_scraper\\DoD_scraper\\utils.py\u001b[0m in \u001b[0;36mstrf_to_datetime\u001b[1;34m(strf, form)\u001b[0m\n\u001b[0;32m     50\u001b[0m \u001b[1;33m\u001b[0m\u001b[0m\n\u001b[0;32m     51\u001b[0m \u001b[1;32mdef\u001b[0m \u001b[0mstrf_to_datetime\u001b[0m\u001b[1;33m(\u001b[0m\u001b[0mstrf\u001b[0m\u001b[1;33m,\u001b[0m \u001b[0mform\u001b[0m\u001b[1;33m)\u001b[0m\u001b[1;33m:\u001b[0m\u001b[1;33m\u001b[0m\u001b[0m\n\u001b[1;32m---> 52\u001b[1;33m     \u001b[1;32mreturn\u001b[0m \u001b[0mdatetime\u001b[0m\u001b[1;33m.\u001b[0m\u001b[0mstrptime\u001b[0m\u001b[1;33m(\u001b[0m\u001b[0mstrf\u001b[0m\u001b[1;33m,\u001b[0m \u001b[0mform\u001b[0m\u001b[1;33m)\u001b[0m\u001b[1;33m\u001b[0m\u001b[0m\n\u001b[0m",
      "\u001b[1;32m~\\Anaconda3\\lib\\_strptime.py\u001b[0m in \u001b[0;36m_strptime_datetime\u001b[1;34m(cls, data_string, format)\u001b[0m\n\u001b[0;32m    563\u001b[0m     \"\"\"Return a class cls instance based on the input string and the\n\u001b[0;32m    564\u001b[0m     format string.\"\"\"\n\u001b[1;32m--> 565\u001b[1;33m     \u001b[0mtt\u001b[0m\u001b[1;33m,\u001b[0m \u001b[0mfraction\u001b[0m \u001b[1;33m=\u001b[0m \u001b[0m_strptime\u001b[0m\u001b[1;33m(\u001b[0m\u001b[0mdata_string\u001b[0m\u001b[1;33m,\u001b[0m \u001b[0mformat\u001b[0m\u001b[1;33m)\u001b[0m\u001b[1;33m\u001b[0m\u001b[0m\n\u001b[0m\u001b[0;32m    566\u001b[0m     \u001b[0mtzname\u001b[0m\u001b[1;33m,\u001b[0m \u001b[0mgmtoff\u001b[0m \u001b[1;33m=\u001b[0m \u001b[0mtt\u001b[0m\u001b[1;33m[\u001b[0m\u001b[1;33m-\u001b[0m\u001b[1;36m2\u001b[0m\u001b[1;33m:\u001b[0m\u001b[1;33m]\u001b[0m\u001b[1;33m\u001b[0m\u001b[0m\n\u001b[0;32m    567\u001b[0m     \u001b[0margs\u001b[0m \u001b[1;33m=\u001b[0m \u001b[0mtt\u001b[0m\u001b[1;33m[\u001b[0m\u001b[1;33m:\u001b[0m\u001b[1;36m6\u001b[0m\u001b[1;33m]\u001b[0m \u001b[1;33m+\u001b[0m \u001b[1;33m(\u001b[0m\u001b[0mfraction\u001b[0m\u001b[1;33m,\u001b[0m\u001b[1;33m)\u001b[0m\u001b[1;33m\u001b[0m\u001b[0m\n",
      "\u001b[1;32m~\\Anaconda3\\lib\\_strptime.py\u001b[0m in \u001b[0;36m_strptime\u001b[1;34m(data_string, format)\u001b[0m\n\u001b[0;32m    360\u001b[0m     \u001b[1;32mif\u001b[0m \u001b[1;32mnot\u001b[0m \u001b[0mfound\u001b[0m\u001b[1;33m:\u001b[0m\u001b[1;33m\u001b[0m\u001b[0m\n\u001b[0;32m    361\u001b[0m         raise ValueError(\"time data %r does not match format %r\" %\n\u001b[1;32m--> 362\u001b[1;33m                          (data_string, format))\n\u001b[0m\u001b[0;32m    363\u001b[0m     \u001b[1;32mif\u001b[0m \u001b[0mlen\u001b[0m\u001b[1;33m(\u001b[0m\u001b[0mdata_string\u001b[0m\u001b[1;33m)\u001b[0m \u001b[1;33m!=\u001b[0m \u001b[0mfound\u001b[0m\u001b[1;33m.\u001b[0m\u001b[0mend\u001b[0m\u001b[1;33m(\u001b[0m\u001b[1;33m)\u001b[0m\u001b[1;33m:\u001b[0m\u001b[1;33m\u001b[0m\u001b[0m\n\u001b[0;32m    364\u001b[0m         raise ValueError(\"unconverted data remains: %s\" %\n",
      "\u001b[1;31mValueError\u001b[0m: time data 'Sept. 11, 2018' does not match format '%b. %d, %Y'"
     ]
    }
   ],
   "source": [
    "from DoD_scraper import get_latest_speech\n",
    "\n",
    "begin_date = '2018-07-01'\n",
    "max_num = 5\n",
    "sleep = 1.0\n",
    "\n",
    "for i, json_obj in enumerate(get_latest_speech(begin_date, max_num, sleep)):\n",
    "    title = json_obj['title']\n",
    "    time = json_obj['time']\n",
    "    print('[{} / {}] ({}) {}'.format(i+1, max_num, time, title))"
   ]
  },
  {
   "cell_type": "code",
   "execution_count": null,
   "metadata": {},
   "outputs": [],
   "source": []
  }
 ],
 "metadata": {
  "kernelspec": {
   "display_name": "Python 3",
   "language": "python",
   "name": "python3"
  },
  "language_info": {
   "codemirror_mode": {
    "name": "ipython",
    "version": 3
   },
   "file_extension": ".py",
   "mimetype": "text/x-python",
   "name": "python",
   "nbconvert_exporter": "python",
   "pygments_lexer": "ipython3",
   "version": "3.6.5"
  },
  "varInspector": {
   "cols": {
    "lenName": 16,
    "lenType": 16,
    "lenVar": 40
   },
   "kernels_config": {
    "python": {
     "delete_cmd_postfix": "",
     "delete_cmd_prefix": "del ",
     "library": "var_list.py",
     "varRefreshCmd": "print(var_dic_list())"
    },
    "r": {
     "delete_cmd_postfix": ") ",
     "delete_cmd_prefix": "rm(",
     "library": "var_list.r",
     "varRefreshCmd": "cat(var_dic_list()) "
    }
   },
   "oldHeight": 122.545454,
   "position": {
    "height": "40px",
    "left": "1007.45px",
    "right": "20px",
    "top": "139px",
    "width": "250px"
   },
   "types_to_exclude": [
    "module",
    "function",
    "builtin_function_or_method",
    "instance",
    "_Feature"
   ],
   "varInspector_section_display": "none",
   "window_display": true
  }
 },
 "nbformat": 4,
 "nbformat_minor": 2
}
