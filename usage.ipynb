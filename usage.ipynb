{
 "cells": [
  {
   "cell_type": "code",
   "execution_count": 1,
   "metadata": {
    "scrolled": false
   },
   "outputs": [
    {
     "name": "stdout",
     "output_type": "stream",
     "text": [
      "get briefing statement urls 1 / 3\n",
      "get briefing statement urls 2 / 3\n",
      "get briefing statement urls 3 / 3\n",
      "45 urls for all news\n"
     ]
    }
   ],
   "source": [
    "import time\n",
    "import DoD_scraper\n",
    "from DoD_scraper import get_allnews_urls\n",
    "from DoD_scraper import parse_page\n",
    "\n",
    "urls = get_allnews_urls(begin_page=1, end_page=3, verbose=True)\n",
    "print('%d urls for all news' % len(urls))"
   ]
  },
  {
   "cell_type": "code",
   "execution_count": 2,
   "metadata": {
    "scrolled": true
   },
   "outputs": [
    {
     "name": "stdout",
     "output_type": "stream",
     "text": [
      "title : Media Availability With Deputy Secretary Shanahan and Under Secretary of Defense Griffin at NDIA Hyp ..\n",
      "time : Dec. 13, 2018 ..\n",
      "content : Transcript                                MR. SHANAHAN:  And he -- to Joe's credit, the reason we're ..\n",
      "url : https://dod.defense.gov/News/Transcripts/Transcript-View/Article/1713396/media-availability-with-dep ..\n",
      "scrap_time : 2019-01-11 06:09:47 ..\n",
      "\n",
      "\n",
      "title : Joint Operations Command-Iraq Briefing ..\n",
      "time : Dec. 11, 2018 ..\n",
      "content : Transcript                                STAFF: Good morning. We will begin our brief with a quick  ..\n",
      "url : https://dod.defense.gov/News/Transcripts/Transcript-View/Article/1710791/joint-operations-command-ir ..\n",
      "scrap_time : 2019-01-11 06:09:48 ..\n",
      "\n",
      "\n",
      "title : Media Availability With Secretary Mattis While En Route to Ottawa, Dec. 5, 2018 ..\n",
      "time : Dec. 6, 2018 ..\n",
      "content : Secretary of Defense James N. MattisDec. Transcript                                SECRETARY OF DEFE ..\n",
      "url : https://dod.defense.gov/News/Transcripts/Transcript-View/Article/1706472/media-availability-with-sec ..\n",
      "scrap_time : 2019-01-11 06:09:48 ..\n",
      "\n",
      "\n"
     ]
    }
   ],
   "source": [
    "def pprint(json_object):\n",
    "    for k, v in json_object.items():\n",
    "        print('{} : {} ..'.format(k, str(v)[:100]))\n",
    "    print('\\n')\n",
    "\n",
    "SLEEP = 0.5\n",
    "\n",
    "for url in urls[:3]:\n",
    "    json_object = parse_page(url)\n",
    "    pprint(json_object)"
   ]
  }
 ],
 "metadata": {
  "kernelspec": {
   "display_name": "Python 3",
   "language": "python",
   "name": "python3"
  },
  "language_info": {
   "codemirror_mode": {
    "name": "ipython",
    "version": 3
   },
   "file_extension": ".py",
   "mimetype": "text/x-python",
   "name": "python",
   "nbconvert_exporter": "python",
   "pygments_lexer": "ipython3",
   "version": "3.6.5"
  },
  "varInspector": {
   "cols": {
    "lenName": 16,
    "lenType": 16,
    "lenVar": 40
   },
   "kernels_config": {
    "python": {
     "delete_cmd_postfix": "",
     "delete_cmd_prefix": "del ",
     "library": "var_list.py",
     "varRefreshCmd": "print(var_dic_list())"
    },
    "r": {
     "delete_cmd_postfix": ") ",
     "delete_cmd_prefix": "rm(",
     "library": "var_list.r",
     "varRefreshCmd": "cat(var_dic_list()) "
    }
   },
   "oldHeight": 122.545454,
   "position": {
    "height": "40px",
    "left": "427.455px",
    "right": "20px",
    "top": "120px",
    "width": "250px"
   },
   "types_to_exclude": [
    "module",
    "function",
    "builtin_function_or_method",
    "instance",
    "_Feature"
   ],
   "varInspector_section_display": "none",
   "window_display": true
  }
 },
 "nbformat": 4,
 "nbformat_minor": 2
}
