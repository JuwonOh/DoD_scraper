{
 "cells": [
  {
   "cell_type": "code",
   "execution_count": 11,
   "metadata": {},
   "outputs": [],
   "source": [
    "a = \"\\nFace of Defense: Army NCOs Reconnect During Mideast Deployment\\n\\n\\nSept. 6, 2018\\nNews\\nBy Army Staff Sgt. Leticia Samuels, 449th Theater Aviation Brigade\\r\\n                            \\r\\n                            \\r\\n                        \\n\\n\\n\\n\\nCAMP TAJI MILITARY COMPLEX, Iraq -- Soldiers assigned to the 449th Combat Aviation Brigade traveled more than 6,300 miles in order to support Operations Inherent Resolve and Spartan Shield from November 2017 to August 2018. \\r\\n\\r\\n\\r\\n\\n\\n\\n\\n\\n\\n\\n\\n\\n\\r\\n            Army Staff Sgt Robert Morneau, right, a crew chief assigned to 1st Battalion, 126th Aviation Regiment (General Support Aviation Battalion), embraces Army Sgt 1st Class Giovanni Ford, the 449th Combat Aviation Brigade Headquarters and Headquarters Company’s supply sergeant at Camp Buehring, Kuwait, Aug. 21, 2018. The two noncommissioned officers are childhood comrades that haven’t seen each other for 30 years until they ran into each other on their 2017-2018 deployment in support of Operations Inherent Resolve and Spartan Shield. Army photo by Capt. Briana McFarland\\r\\n        \\n\\n\\n\\n\\n\\n\\n\\n\\r\\n                180821-Z-UK507-015\\r\\n            \\n\\r\\n                Army Staff Sgt Robert Morneau, right, a crew chief assigned to 1st Battalion, 126th Aviation Regiment (General Support Aviation Battalion), embraces Army Sgt 1st Class Giovanni Ford, the 449th Combat Aviation Brigade Headquarters and Headquarters Company’s supply sergeant at Camp Buehring, Kuwait, Aug. 21, 2018. The two noncommissioned officers are childhood comrades that haven’t seen each other for 30 years until they ran into each other on their 2017-2018 deployment in support of Operations Inherent Resolve and Spartan Shield. Army photo by Capt. Briana McFarland\\r\\n            \\n\\n\\nSHARE IMAGE:\\n\\n\\n\\n\\n\\n\\n\\n\\n\\n\\n\\n\\r\\n                        var addthis_config = {\\r\\n                            data_use_flash: false,\\r\\n                            data_use_cookies: false,\\r\\n                            ui_508_compliant: true\\r\\n                        }\\r\\n                    \\n\\n\\n\\n\\n\\nDownload Image\\n\\n\\n\\n\\n\\nImage Details\\n\\n\\n\\n\\n\\nPhoto By: Capt. Briana McFarland\\n\\n\\n\\n\\n\\nVIRIN: 180821-Z-UK507-015\\n\\n\\n\\n\\n\\n\\n\\n\\r\\n    #cboxClose {\\r\\n        position: absolute;\\r\\n        top: 5px;\\r\\n        right: 5px;\\r\\n        display: block;\\r\\n        background: url(/desktopmodules/articlecs/images/media_popup_close.png) no-repeat top center;\\r\\n        width: 40px;\\r\\n        height: 40px;\\r\\n        text-indent: -9999px;\\r\\n    }\\r\\n\\r\\n        #cboxClose:hover {\\r\\n            background-position: bottom center;\\r\\n        }\\r\\n\\r\\n    .me-plugin {\\r\\n        width: 100%;\\r\\n        height: 100%;\\r\\n    }\\r\\n\\n\\r\\n\\r\\n    var gih = 0;\\r\\n    var giw = 0;\\r\\n    var pup;\\r\\n    var g_isDynamic = false;\\r\\n\\r\\n    function popupResize(ibox, w, h, doResize) {\\r\\n        if ($(ibox).hasClass('dgov2popup-info')) {\\r\\n            // This block is included once, so is shared by all media tokens.\\r\\n            // this block is how we execute the special resize for dgov2's slideshow popup\\r\\n            dgov2slideshowPopupResize(ibox, w, h, doResize);\\r\\n            return;\\r\\n        }\\r\\n\\r\\n        if (!g_isDynamic)\\r\\n            return;\\r\\n\\r\\n        var isMobile = window.matchMedia('(max-width: 1200px)').matches;\\r\\n\\r\\n        if (isMobile) {\\r\\n            $.colorbox.resize({ width: \\\"100%\\\", height: \\\"100%\\\" });\\r\\n            $(ibox).find(\\\".img-responsive\\\").width('100%');\\r\\n            $(ibox).find(\\\".img-responsive\\\").height('auto');\\r\\n\\r\\n            $(ibox).find(\\\".info\\\").css('height', 'auto');\\r\\n            return;\\r\\n        }\\r\\n\\r\\n        var iw = w;\\r\\n        var ih = h;\\r\\n        var ww = $(window).width();\\r\\n        var wh = $(window).height();\\r\\n        var hextra = 40;\\r\\n        var wextra = 360;\\r\\n        var hborder = 120;\\r\\n        var wborder = 120;\\r\\n        var maxw = ww - wextra - wborder;\\r\\n        var maxh = wh - hextra - hborder;\\r\\n        var ratio = Math.min(maxw / iw, maxh / ih);\\r\\n\\r\\n        iw = Math.floor(iw * ratio); // use floor to avoid overflow scrollbar\\r\\n        ih = Math.floor(ih * ratio);\\r\\n\\r\\n        //        console.log(iw + \\\" \\\" + ih + \\\" --- \\\" + (iw + wextra) + \\\" \\\" + (ih + hextra))\\r\\n\\r\\n        $(ibox).find(\\\".img-responsive\\\").width(iw);\\r\\n        $(ibox).find(\\\".img-responsive\\\").height(ih);\\r\\n\\r\\n        $(ibox).find(\\\".info\\\").height(ih);\\r\\n\\r\\n        if (doResize)\\r\\n            $.colorbox.resize({ width: iw + wextra, height: ih + hextra });\\r\\n    }\\r\\n\\r\\n    $(window).resize(function () {\\r\\n        if (g_isDynamic && pup !== undefined)\\r\\n            popupResize(pup, giw, gih, true);\\r\\n    });\\r\\n\\r\\n    $(window).load(function () {\\r\\n        $(\\\".popup\\\").click(function () {\\r\\n            giw = $(this).data('width');\\r\\n            gih = $(this).data('height');\\r\\n            pup = $($(this).attr('href'));\\r\\n            g_isDynamic = $(this).data('dynamic') === 1 ? true : false;\\r\\n\\r\\n            popupResize(pup, giw, gih, false);\\r\\n\\r\\n            var w = \\\"768px\\\";\\r\\n            var isMobile = $(window).width() < 768 ? true : false;\\r\\n            w = \\\"auto\\\";\\r\\n            if (isMobile)\\r\\n                w = \\\"100%\\\";\\r\\n\\r\\n            const isDgov2Slideshow = $(this).attr(\\\"data-isdgov2slideshow\\\") != undefined;\\r\\n            const slideNumber = parseInt($(this).attr('data-slide-number'));\\r\\n            const slideIndex = slideNumber - 1;\\r\\n            //console.log(\\\"slideNumber for popup\\\", slideNumber)\\r\\n            const popupThis = this;\\r\\n            $(this).colorbox({\\r\\n                className: 'inline-popup', fixed: true, transition: \\\"none\\\", opacity: .9, inline: true, width: w, height: 'auto', close: \\\"X\\\", onClosed: function () {\\r\\n                },\\r\\n                onComplete: function () {\\r\\n                    var popupHeight = jQuery(this.href.substring(this.href.lastIndexOf(\\\"#\\\"))).outerHeight(true);\\r\\n                    if (jQuery(\\\"#colorbox\\\").height() < popupHeight) {\\r\\n                        jQuery(\\\"#colorbox\\\").height(popupHeight);\\r\\n                    }\\r\\n                    if (g_isDynamic) {\\r\\n                        if (!isMobile) {\\r\\n                            bodyScrollLock.disableBodyScroll(this);\\r\\n                        }\\r\\n                    }\\r\\n                   \\r\\n                    // for popup having data-isdgov2slideshow attr (see above)\\r\\n                    if (isDgov2Slideshow) {\\r\\n                        const popSelector = '#dgov2popup-target-1621859';\\r\\n                        const ssSelector = '#dgov2slideshowId-1621859';\\r\\n                        dgov2slideshowPopupInit({\\r\\n                            numSlides: 0,\\r\\n                            startingSlideIndex: slideIndex,\\r\\n                            popupSelector: popSelector,\\r\\n                            slideshowSelector: ssSelector,\\r\\n                            slideshowMediaId: 1621859,\\r\\n                        });\\r\\n                        giw = $(popupThis).data('width');\\r\\n                        gih = $(popupThis).data('height');\\r\\n                        pup = $($(popupThis).attr('href'));\\r\\n                        popupResize(pup, giw, gih, true);\\r\\n                    }\\r\\n                },\\r\\n                onClosed: function () {\\r\\n                    pup = undefined;\\r\\n                    if (g_isDynamic)\\r\\n                        bodyScrollLock.enableBodyScroll(this);\\r\\n\\r\\n                    if (isDgov2Slideshow) {\\r\\n                        const popSelector = '#dgov2popup-target-1621859';\\r\\n                        const ssSelector = '#dgov2slideshowId-1621859';\\r\\n                        dgov2slideshowPopupDestroy({\\r\\n                            popupSelector: popSelector,\\r\\n                            slideshowSelector: ssSelector,\\r\\n                        });\\r\\n                    }\\r\\n                }\\r\\n            });\\r\\n\\r\\n        });\\r\\n\\r\\n        \\r\\n        $(\\\".popup-slideshow\\\").colorbox({\\r\\n            inline: true,\\r\\n            onComplete: function () {\\r\\n                SlideshowInit();\\r\\n                $.colorbox.resize();\\r\\n                // stop scrollbar from flashing\\r\\n                $(\\\"#cboxLoadedContent\\\").css(\\\"overflow\\\", \\\"\\\");\\r\\n                $(\\\"#cboxLoadedContent\\\").css(\\\"overflow-y\\\", \\\"hidden\\\");\\r\\n            },\\r\\n            onClosed: function () {\\r\\n                $('.slideshow-gallery').trigger('slideTo', 0);\\r\\n            }\\r\\n        });\\r\\n        \\r\\n    });\\r\\n\\n\\nAnd, for Army Sgt. 1st Class Giovanni Ford, the 449th CAB Headquarters and Headquarters Company’s supply sergeant and Staff Sgt. Robert Morneau, a crew chief assigned to the 1st Battalion, 126th Aviation Regiment (General Support Aviation Battalion), this deployment held a great surprise.\\nFord said he ran into quite a few National Guard colleagues from various states.\\nBut the real treat, he said, was reconnecting with Morneau, a childhood friend.\\n‘The Army is a Small World’\\n“The Army is a small world,” Ford said. “Running into Staff Sergeant Morneau was the icing on the cake. I haven't seen him in 30 years.”\\nBoth noncommissioned officers are from Smyrna, Delaware, and met while participating in various community-based events.\\n“We grew up in a very small town where everybody knew each other,” Ford said. “There were church events, social events, the 4-H club, Boy Scouts, Little League baseball, Pop Warner [Youth] football, and tons of school events.\\\"\\nFord graduated one year prior to his comrade and decided to join the military.\\n“The Navy had more opportunity,” Ford said. “At the time, the Army was only offering certain military occupational specialties choices, and I wasn't interested in any they were offering.”\\nFord said he completed nine years in the Navy. After a long break in service, a family friend convinced him to join the Army National Guard.\\n“One of my parents’ neighbors was a North Carolina Guard recruiter,” Ford said. “The rest is history.”\\nDifferent Career Paths\\nEven though they took different career paths, military forces led them back to each other’s circle. The 449th CAB was selected for active service and the unit completed its mobilization training at Forts Hood and Sill.\\nMorneau said he was attending aerial gunnery training at Fort Sill and was working through a supply issue, which led him straight to Ford’s area of operations.\\n“When I asked for his first name and the soldier said, ‘Giovanni’ -- a light bulb went off,” Morneau said.\\nHe said after some due diligence using Facebook, he confirmed it was indeed his childhood companion.\\n“It was pretty surreal,” Morneau said. “I mean, I joined the Army at 18 and Gio joined the Navy. We both had long breaks in service before ending up back in the Army Guard, and in different states.”\\nCatching Up\\nSince reconnecting and catching up on old times, these two 30-plus-year friends continue to speak highly of each other.\\n“What I remember most about SFC Ford is his being the life of the party,” Morneau said. “Everyone knew Gio. It seems from what I’ve observed, that much has not changed, which is a good trait in his career field.”\\nMorneau “was always a witty person and had a strong opinion,” Ford said. “He always stuck to his word.”\\nThey also emphasized the importance of their family support systems.\\n“This deployment and my previous deployment wouldn't have been possible without a strong family support system in place,” Ford said.\\n“This is also my wife Sue’s fourth deployment,” Morneau said. “By that, I mean we’ve been together through Iraq, Afghanistan and Kuwait, twice now. She’s the one that’s dealt with all the things back home that don’t stop just because I’m deployed. She deserves the credit for me being able to do what I do.”\\nNow that the two comrades have reconnected, Morneau looks to hearing about his comrade’s journey.\\n“All in all, I guess I was really looking forward to hearing how after all these years he ended up in this trip with me,” Morneau said.\\n\""
   ]
  },
  {
   "cell_type": "code",
   "execution_count": 18,
   "metadata": {},
   "outputs": [
    {
     "data": {
      "text/plain": [
       "<re.Match object; span=(1747, 1753), match='IMAGE:'>"
      ]
     },
     "execution_count": 18,
     "metadata": {},
     "output_type": "execute_result"
    }
   ],
   "source": [
    "import re\n",
    "re.search('IMAGE:', a)"
   ]
  },
  {
   "cell_type": "code",
   "execution_count": 1,
   "metadata": {
    "scrolled": false
   },
   "outputs": [
    {
     "name": "stdout",
     "output_type": "stream",
     "text": [
      "get briefing statement urls 0 / 2\n",
      "get briefing statement urls 1 / 2\n",
      "get briefing statement urls 2 / 2\n",
      "30 news_urls for all news\n",
      "get briefing statement urls 1 / 10\n",
      "get briefing statement urls 2 / 10\n",
      "get briefing statement urls 3 / 10\n",
      "get briefing statement urls 4 / 10\n",
      "get briefing statement urls 5 / 10\n",
      "get briefing statement urls 6 / 10\n",
      "get briefing statement urls 7 / 10\n",
      "get briefing statement urls 8 / 10\n",
      "get briefing statement urls 9 / 10\n",
      "get briefing statement urls 10 / 10\n",
      "150 trans_urls for all news\n",
      "get briefing statement urls 1 / 2\n",
      "get briefing statement urls 2 / 2\n",
      "60 release_urls for all news\n",
      "get briefing statement urls 1 / 2\n",
      "get briefing statement urls 2 / 2\n",
      "60 advisor_urls for all news\n",
      "get briefing statement urls 1 / 2\n",
      "get briefing statement urls 2 / 2\n",
      "60 speech_urls for all news\n"
     ]
    }
   ],
   "source": [
    "import time\n",
    "import DoD_scraper\n",
    "from DoD_scraper import get_news_urls\n",
    "from DoD_scraper import get_trans_urls\n",
    "from DoD_scraper import get_release_urls\n",
    "from DoD_scraper import get_advisor_urls\n",
    "from DoD_scraper import get_speech_urls\n",
    "\n",
    "news_urls = get_news_urls(begin_page=1, end_page=2, verbose=True)\n",
    "print('%d news_urls for all news' % len(news_urls))\n",
    "trans_urls = get_trans_urls(begin_page=1, end_page=2, verbose=True)\n",
    "print('%d trans_urls for all news' % len(trans_urls))\n",
    "release_urls = get_release_urls(begin_page=1, end_page=2, verbose=True)\n",
    "print('%d release_urls for all news' % len(release_urls))\n",
    "advisor_urls = get_advisor_urls(begin_page=1, end_page=2, verbose=True)\n",
    "print('%d advisor_urls for all news' % len(advisor_urls))\n",
    "speech_urls = get_speech_urls(begin_page=1, end_page=2, verbose=True)\n",
    "print('%d speech_urls for all news' % len(speech_urls))"
   ]
  },
  {
   "cell_type": "code",
   "execution_count": 2,
   "metadata": {},
   "outputs": [],
   "source": [
    "from DoD_scraper import get_soup\n",
    "from DoD_scraper import parse_page\n",
    "\n",
    "soup = get_soup('https://dod.defense.gov/News/Transcripts/Transcript-View/Article/1713396/media-availability-with-deputy-secretary-shanahan-and-under-secretary-of-defens/')\n",
    "phrases = soup.find('div', class_= 'article-body').get_text()\n"
   ]
  },
  {
   "cell_type": "code",
   "execution_count": 3,
   "metadata": {},
   "outputs": [
    {
     "data": {
      "text/plain": [
       "'\\nMedia Availability With Deputy Secretary Shanahan and Under Secretary of Defense Griffin at NDIA Hypersonics Senior Executive Series\\nDeputy Secretary of Defense Patrick M. Shanahan; Under Secretary of Defense for Research and Engineering Michael D. Griffin\\n\\n\\nDec. 13, 2018\\nTranscript\\n\\n\\n\\r\\n\\r\\n                \\r\\n\\r\\n                MR. SHANAHAN:  And he -- to Joe\\'s credit, the reason we\\'re all getting together today is he\\'s like, \"Let\\'s -- let\\'s invite the media to the event.  Let\\'s make sure it\\'s open and then let\\'s find time afterwards -- we’ll grab Dr. Griffin.\" \\n\\r\\nJust he\\'s a -- for whatever reason, he thinks it\\'s really important that you have a lot of information and can write good stories.  So.\\n\\r\\n(LAUGHTER)\\n\\r\\nSo...\\n\\r\\n(CROSSTALK)\\n\\r\\nQ:  Call me crazy \\n\\r\\nMR. SHANAHAN:  Yeah, yeah.  So.  \\n\\r\\nAnyways, good morning.  \\n\\r\\nQ:  Morning. \\n\\r\\nMR. SHANAHAN:  How is everybody?  \\n\\r\\nQ:  Good. \\n\\r\\nQ:  Doing well. \\n\\r\\nMR. SHANAHAN:  Yeah, good.  Thanks for coming over.  \\n\\r\\nI don\\'t know -- Bob, you\\'re the senior guy here.  How do you want to do this today?  We\\'ve got 13 minutes. \\n\\r\\nQ:  Why don\\'t you go first… \\n\\r\\nQ  Keep it short...\\n\\r\\nMR. SHANAHAN:  Yeah, yeah. \\n\\r\\nQ:  ... so if I could ask a short, quick question...\\n\\r\\nMR. SHANAHAN:  Sure, sure. \\n\\r\\nQ:  Then my colleagues will probably have question on hypersonics and -- that’s the topic of the day. I just wanted to ask you a quick one about Space Force, and...\\n\\r\\nMR. SHANAHAN:  Sure. \\n\\r\\nQ:  ... where you are right now in what you discussed with us previously about narrowing down your proposal for...\\n\\r\\nMR. SHANAHAN:  Yeah. \\n\\r\\nQ:  ... for next year, what the Space Force really is, how do you define it?\\n\\r\\nMR. SHANAHAN:  Yes.  So the -- I think before we told you there were, you know, two primary options, and there was a variation.  But there was really two primary ones. \\n\\r\\nWe\\'re now down to one option.  I won\\'t -- I\\'m really not in a position to disclose what that one option is.  But I can tell you that the legislative proposal itself, probably tomorrow, will start to go through the build-in for coordination.  \\n\\r\\nQ:  (OFF-MIKE)\\n\\r\\nMR. SHANAHAN:  Yes.  Yeah.  And if I dare to use an aerospace term, I\\'d say we\\'re on the final approach.  \\n\\r\\nQ:  OK.  You can\\'t say whether it\\'s -- it\\'s a force, it\\'s part of an existing department or it would be a new department? \\n\\r\\nMR. SHANAHAN:  Right. \\n\\r\\nQ:  Isn’t that the question. \\n\\r\\nMR. SHANAHAN:  That -- that\\'s the question.  That\\'s why -- that\\'s why I said that we\\'re down to the one. \\n\\r\\nQ:  You won\\'t say which one it is? \\n\\r\\nMR. SHANAHAN:  No, no.  Not until we fully coordinate.  Yes.\\n\\r\\nQ:  And the contents?\\n\\r\\nMR. SHANAHAN:  Right.  Soon, right?  We\\'ll -- we\\'ll be able to give you an answer soon on that, OK?  \\n\\r\\nQ:  Before January?\\n\\r\\nMr. SHANAHAN:  We\\'ll try.  My sense is, with all of your access to other sources, we\\'ll probably be having that conversation.  So. \\n\\r\\nBut in terms of maintaining the timeline and -- and doing the work, we\\'re on track to being able to put together the proposal, OK?\\n\\r\\nYeah?  Hi. \\n\\r\\nQ:  Thank you, Secretary Shanahan.  Following up on Bob\\'s question, are we going to see anything specific on the Space Command and Space Development Agency in the coming weeks?  What can we expect?\\n\\r\\nMR. SHANAHAN:  Trying to think on how to give you a good answer.  I know there\\'s a number of things in the work that are actually out for, you know, signature-type. \\n\\r\\nBut I\\'m hoping we\\'ll see some decisions on the Space Command by the end of the year.  The details around the Space Development Agency, you probably won\\'t see the level of detail and explanation. \\n\\r\\nMike and I are in the midst of a -- what was it, a 45- or 60-day exercise?  \\n\\r\\nUNDERSECRETARY OF DEFENSE MICHAEL D. GRIFFIN:  Not to exceed 60 days. \\n\\r\\nMR. SHANAHAN:  Yeah.  So part of the timing there is against this approach of having a Space Development Agency, we\\'ve taken all of the work Mike\\'s team has done in the last year.  And we\\'ve said, \"Where is the synergy?  Where is the time acceleration,\" from using a -- this other development approach -- and then \"Where is the cost benefit?\"\\n\\r\\nBecause what we want to avoid is a discussion next year that is philosophical.  So we want to say that we chose this development approach because it yields these quantifiable outputs and deliverables.  Here\\'s how we can develop this space capability sooner, and have real projects to tie to.  \\n\\r\\nAnd given our bias towards being analytical and quantitative, that\\'s the basis on which we\\'ll also justify the Space Development Agency.  So.  OK?\\n\\r\\nQ:  Thank you. \\n\\r\\nMR. SHANAHAN:  Yeah? \\n\\r\\nQ:  Mr. Secretary, in your remarks, you talked a lot about resources.  And, you know, you said DOE\\'s been building a $733 billion budget, and then you were directed to build a $700 billion budget.  \\n\\r\\nNow, have you been directed to build a $750 billion budget?  And if so, would that extra funding include more money for hypersonics? \\n\\r\\nMR. SHANAHAN:  We built variations of the $733 billion budget.  And against a bigger budget, we\\'ve prioritized greater investment in technology, and a number of the programs that Mike put forward in the $733 billion effort. \\n\\r\\nQ:  So your previous work did provide the possibility of getting $750 billion, or just more research in general?\\n\\r\\nMR. SHANAHAN:  Yeah.  So when we – and, Bob, you\\'ll appreciate this.  When we do the budgeting exercise, we have -- I call it \"cut line,\" but it\\'s like, you either fall below the cut so you don\\'t make it.  But those -- those lists and prioritizations are available. \\n\\r\\nSo if somebody says, \"Reduce the top line,\" then we go back to those priorities and -- and make trades.  Same way that someone says, \"You\\'ve got more money to spend,\" then we\\'d say, \"Well, that project wasn\\'t funded, and now we\\'ll fund it.\"  And we\\'ve looked at technology as well as capacity. \\n\\r\\nQ:  So is $750 billion, though, a specific number you\\'re looking at now? \\n\\r\\nMR. SHANAHAN:  We\\'re looking at numbers above the $733.  And as you know, we looked at numbers below $733.  And I think as everybody recognizes, you know, this is a -- a discussion that\\'ll go on in terms of, you know, what\\'s the right number.  \\n\\r\\nSo the process that we have is very robust.  I think the -- John, the takeaway that I\\'d like you to have on the budgeting process is, we really have tried to anchor the line items to the National Defense Strategy, to the degree you can.  I mean, that\\'s the rigor we put in place. \\n\\r\\nSo, you know, for the things that we have in there, we can -- there\\'s traceability.  So when someone says, \"Why did you put this number in place?\"  We can trace it back to an effect or capacity, a capability we want to deliver that supports the National Defense Strategy.\\n\\r\\nQ:  Thank you.\\n\\r\\nMR. SHANAHAN:  You\\'re welcome.\\n\\r\\nQ:   If I could sort of follow-up on -- if I could follow-up on that question, as you guys kind of looks at these different numbers and setup these different budgets what\\'s in the trade space?  Fifty-billion dollars is a lot of money and I\\'m sure makes a huge difference in what you guys are able to accomplish in terms of adhering to the NDS.\\n\\r\\nMR. SHANAHAN:  Yeah. The easiest way to think about the trade space is you have modernization, readiness and force structure.  Those are the three big dials to turn.  And so, you can find line items that fall under each of those categories but those are the real -- real big categories.\\n\\r\\nSo at the end of the day, you know, national defense strategy puts a priority on modernization.  That\\'s why I said to the woman from Lockheed I was high in confidence on benign technologies.  The trick then becomes, you know we talk about force structure -- how much risk do you take given the world environment.  And so those -- you know when you look at modernization, how do we fund it at an adequate level?  Readiness -- how do you avoid hollowing out a force?  And when it comes to force structure, how much risk do you take with your footprint?\\n\\r\\nQ:  And if I could just ask one quick one on Space Force as well?  Have you guys met with the president yet on what the desired topline is and if not, when is that going to happen?\\n\\r\\nMR. SHANAHAN:   I haven\\'t briefed the president.  I know the president has been briefed.\\n\\r\\nQ:  He has been briefed?\\n\\r\\nMR. SHANAHAN:  Yeah.\\n\\r\\nQ:  Is he onboard with whatever the budget?\\n\\r\\nMR. SHANAHAN:  Yeah, he\\'s given us guidance.\\n\\r\\nQ:  OK.\\n\\r\\nQ:  Could you describe how you think about the split between offensive and defensive hypersonic sides?  I take it that both are important.  What does the funding look like in terms of current expenditures?  Are you prioritizing one of them in near-term versus invest later on?\\n\\r\\nMR. SHANAHAN:  I\\'ll let Mike comment but just one -- he mentioned this earlier and this another bank shot on the Space Force.  So when you think about low-earth-orbit constellation it can provide offense and defense capability in terms of tracking. \\n\\r\\nSo in some cases when we talk about, is it offense or defense, sometimes there\\'s really an overlap where it, you know, supports both.  There\\'s an offense/defense integration component.\\n\\r\\nDR. GRIFFIN:  I don\\'t have a budget split number for you because I haven\\'t thought about it in that way.  In part because that hit on possible the key point about defense, which absolutely requires a space layer that we -- that he was just talking about.\\n\\r\\nAnd in the hope that the system is never actually used to respond to a war then, in peace time, what we\\'re using it for is to track all of the things which might be possible targets -- well that\\'s an offensive problem.\\n\\r\\nIf a war should start where we need to negate a hypersonic attack, well then, it\\'s in the defensive mode.  It\\'s doing other things -- so how -- how do you account for that?  I don\\'t know.  I just haven\\'t thought about it in terms of a budget split between offense and defense.\\n\\r\\nMR. SHANAHAN:  How\\'d we do, Joe?\\n\\r\\nSTAFF:  Great.  I guess we have time for one final -- any last (inaudible).\\n\\r\\nMR. SHANAHAN:   Good.\\n\\r\\nQ:  How far away are you from a workable defensive capability on in hypersonics? Is it years?  Something we could ... \\n\\r\\nDR. GRIFFIN:  Well years -- not months, but not decades, OK?  So I think we\\'ll have a workable defensive capability by the middle of the decade.  \\n\\r\\nMR. SHANAHAN:  But Aaron, the -- the line of questioning that you have there is kind of the way we\\'ve been working this scale.\\n\\r\\nSo when -- you know, Mike and I come into the department, it\\'s what should our priorities be, and then how do we put together the right funding, and then how do we get the programmatics so we can really start to get after the -- the timing?\\n\\r\\nSo Mike hit it right, it\\'s years.  So we\\'re -- we\\'re now getting to the place where we can start to put together the programmatics and pick dates.  \\n\\r\\nI --  I think that\\'s the most important thing we can do, is get certainty and there\\'s --  there\\'s nothing certain with --  with budgets that go up and down and the --  in the dynamic world, but it\\'s so much easier for the industry to be able to move out when we have more clarity about what we want.\\n\\r\\nAnd to Mike\\'s credit, this -- this role that he has is really to kind of get his arms around all of the activities going on in the department.  And there\\'s a tremendous number -- and he\\'s done a good job of pulling people together and saying did you know you\\'re doing this over in the Air Force and the Army you\\'re doing it also?\\n\\r\\nAnd then he\\'s worked in the department to get the service secretaries to say let\\'s have a united front.  And so I think, you know, a year from now, we\\'re going to be able to show you against the portfolio here\\'s what the -- what deliverables look like or here\\'s what IOC\\'s look like or here\\'s what quantities look like, cause that\\'s what -- you know to me, if I was -- you know in industry, it\\'s like how big are you going, you know?\\n\\r\\nHow much capability do you really want to deploy?  Is this really a technology demonstrator or are you talking about fielding, you know, real capability and how much of it will, you know, scale up over time and how quickly?\\n\\r\\nQ:  I just had a quick clarification question for Dr. Griffin.  You talked about defensive capabilities.  Would that include the ability to defend carriers and other naval assets versus, you know, land bases or other land bases and the like?\\n\\r\\nDR. GRIFFIN:  Of -- of course, you know.  We -- we need to be able to defend against the threat, against any -- any of our assets.\\n\\r\\nQ:  I had a quick follow up for Secretary Shanahan on the Space Force proposal.  We spoke yesterday with the new chairman of -- the next Chairman of the House Armed Services, Adam Smith.  He said there\\'s a general agreement that they do not want to pay for more bureaucracy in DOD.\\n\\r\\nSo are you -- are you confident that in this proposal you\\'re actually minimizing bureaucracy and that they\\'re not going to throw that back at you when they see the proposal?\\n\\r\\nMR. SHANAHAN:  I -- I\\'ve spent time with -- with his staff and I\\'ve spoken with Representative Smith.  I think the back and forth will be to explain what\\'s in our proposal and what I feel really confident in is he and I have the same view about bureaucracy, OK?  \\n\\r\\nSo I -- you know and -- and less is better and the more detail we can provide on the proposals and people give us a sense of what we need to take out, I\\'m -- I\\'m happy to get the red pen out and --  where --  where we\\'ve had lots of agreement is going faster and delivering capabilities sooner -- is important.\\n\\r\\nThat\\'s why this work with Dr. Griffin -- so we can say this is the real capability we\\'ll deliver earlier.  That\\'s the most important part of the exercise, but the bill -- I think we\\'re all like go big on capability and then minimize, to the best of your abilities, the over -- I -- I consider it overhead.\\n\\r\\nWe need a certain degree of bureaucracy given the -- our size, but the overhead, how do we minimize the cost there?  And the staff on the Hill has been very helpful in saying, “make sure you answer these questions on cost.”  You know, so.\\n\\r\\nQ:  It sounds like you\\'re going -- you\\'re not going for a separate department, then.  Otherwise you\\'d be maximizing the bureaucracy rather than minimizing it.\\n\\r\\nMR. SHANAHAN:  To be seen, right?  Yeah, that\\'s the way to think about it.\\n\\r\\nQ:  OK.\\n\\r\\nQ:  Do you guys have a final number on cost?\\n\\r\\nMR. SHANAHAN:  Not -- not -- not a final number, yeah.  Yeah.  The -- so if you -- if you said where -- where should we be burning our calories, I want to make sure we\\'re burning them on being able to articulate how we\\'re going to deliver capability sooner than if we have time.\\n\\r\\nAnd we have time, it\\'s like -- then spend the time arguing about, you know, how many offices to have or where those offices should be.  They\\'re -- they\\'re important, but the most important thing is demonstrating we deliver capability more quickly.\\n\\r\\nQ:  OK.\\n\\r\\nSTAFF:  Sir, we should probably be off to your bilat.\\n\\r\\nMR. SHANAHAN:  OK?  All right, oh yeah, I don\\'t want anybody to get... \\n\\r\\nSTAFF:  Thank you very much.\\n\\r\\nMR. SHANAHAN:  All right, thank ...\\n'"
      ]
     },
     "execution_count": 3,
     "metadata": {},
     "output_type": "execute_result"
    }
   ],
   "source": [
    "phrases"
   ]
  },
  {
   "cell_type": "code",
   "execution_count": 4,
   "metadata": {
    "scrolled": true
   },
   "outputs": [
    {
     "name": "stdout",
     "output_type": "stream",
     "text": [
      "title : Proper Eating Increases Health Benefits, Readiness ..\n",
      "time : 2019-03-01 00:00:00 ..\n",
      "content : \n",
      "Proper Eating Increases Health Benefits, Readiness\n",
      "\n",
      "\n",
      "March 1, 2019\n",
      "News\n",
      "By David Vergun \n",
      "          ..\n",
      "url : https://dod.defense.gov/News/Article/Article/1772289/proper-eating-increases-health-benefits-readine ..\n",
      "scrap_time : 2019-03-03 06:07:38 ..\n",
      "\n",
      "\n",
      "title : Officials Explain U.S. Space Force Need, Culture ..\n",
      "time : 2019-03-01 00:00:00 ..\n",
      "content : \n",
      "Officials Explain U.S. Space Force Need, Culture\n",
      "\n",
      "\n",
      "March 1, 2019\n",
      "News\n",
      "By Jim Garamone\n",
      "             ..\n",
      "url : https://dod.defense.gov/News/Article/Article/1772212/officials-explain-us-space-force-need-culture/ ..\n",
      "scrap_time : 2019-03-03 06:07:38 ..\n",
      "\n",
      "\n",
      "title : DOD Sends Space Force Legislation to Congress ..\n",
      "time : 2019-03-01 00:00:00 ..\n",
      "content : \n",
      "DOD Sends Space Force Legislation to Congress\n",
      "\n",
      "\n",
      "March 1, 2019\n",
      "News\n",
      "By Jim Garamone\n",
      "                ..\n",
      "url : https://dod.defense.gov/News/Article/Article/1771782/dod-sends-space-force-legislation-to-congress/ ..\n",
      "scrap_time : 2019-03-03 06:07:38 ..\n",
      "\n",
      "\n",
      "title : En Route Gaggle by Acting Secretary Shanahan ..\n",
      "time : 2019-02-23 00:00:00 ..\n",
      "content : \n",
      "En Route Gaggle by Acting Secretary Shanahan\n",
      "Acting Secretary of Defense Patrick M. Shanahan\n",
      "\n",
      "\n",
      "Feb. ..\n",
      "url : https://dod.defense.gov/News/Transcripts/Transcript-View/Article/1765866/en-route-gaggle-by-acting-s ..\n",
      "scrap_time : 2019-03-03 06:07:39 ..\n",
      "\n",
      "\n",
      "title : Acting Secretary Shanahan and Minister Akar Remarks at the Opening of the Bilateral Meeting ..\n",
      "time : 2019-02-22 00:00:00 ..\n",
      "content : \n",
      "Acting Secretary Shanahan and Minister Akar Remarks at the Opening of the Bilateral Meeting\n",
      "Acting  ..\n",
      "url : https://dod.defense.gov/News/Transcripts/Transcript-View/Article/1765709/acting-secretary-shanahan-a ..\n",
      "scrap_time : 2019-03-03 06:07:39 ..\n",
      "\n",
      "\n",
      "title : Acting Secretary Shanahan and General Dunford Media Availability Prior to Honors Parade ..\n",
      "time : 2019-02-22 00:00:00 ..\n",
      "content : \n",
      "Acting Secretary Shanahan and General Dunford Media Availability Prior to Honors Parade\n",
      "Acting Secr ..\n",
      "url : https://dod.defense.gov/News/Transcripts/Transcript-View/Article/1765690/acting-secretary-shanahan-a ..\n",
      "scrap_time : 2019-03-03 06:07:39 ..\n",
      "\n",
      "\n",
      "title : Readout of Minister of National Defense Jeong Kyeong-doo’s Phone Call With Acting Secretary of Defen ..\n",
      "time : 2019-03-02 00:00:00 ..\n",
      "content : \n",
      "IMMEDIATE RELEASE\n",
      "Readout of Minister of National Defense Jeong Kyeong-doo’s Phone Call With Acting ..\n",
      "url : https://dod.defense.gov/News/News-Releases/News-Release-View/Article/1773294/readout-of-minister-of- ..\n",
      "scrap_time : 2019-03-03 06:07:39 ..\n",
      "\n",
      "\n",
      "title : Statement from Acting Secretary of Defense Patrick M. Shanahan and Secretary of the Air Force Heathe ..\n",
      "time : 2019-03-01 00:00:00 ..\n",
      "content : \n",
      "IMMEDIATE RELEASE\n",
      "Statement from Acting Secretary of Defense Patrick M. Shanahan and Secretary of t ..\n",
      "url : https://dod.defense.gov/News/News-Releases/News-Release-View/Article/1772075/statement-from-acting-s ..\n",
      "scrap_time : 2019-03-03 06:07:39 ..\n",
      "\n",
      "\n",
      "title : Navy to Commission Littoral Combat Ship Charleston ..\n",
      "time : 2019-02-27 00:00:00 ..\n",
      "content : \n",
      "IMMEDIATE RELEASE\n",
      "Navy to Commission Littoral Combat Ship Charleston\n",
      "\n",
      "\n",
      "Feb. 27, 2019\n",
      "News Release\n",
      "R ..\n",
      "url : https://dod.defense.gov/News/News-Releases/News-Release-View/Article/1769473/navy-to-commission-litt ..\n",
      "scrap_time : 2019-03-03 06:07:39 ..\n",
      "\n",
      "\n",
      "title : Military Commissions Media Invitation Announced for United States v. Majid Shoukat Khan, Pre-Sentenc ..\n",
      "time : 2019-02-25 00:00:00 ..\n",
      "content : \n",
      "IMMEDIATE RELEASE\n",
      "Military Commissions Media Invitation Announced for United States v. Majid Shouka ..\n",
      "url : https://dod.defense.gov/News/Press-Advisories/Press-Advisory-View/Article/1766666/military-commissio ..\n",
      "scrap_time : 2019-03-03 06:07:39 ..\n",
      "\n",
      "\n",
      "title : Guantanamo Periodic Review Board Media Invitation Announced ..\n",
      "time : 2019-02-13 00:00:00 ..\n",
      "content : \n",
      "IMMEDIATE RELEASE\n",
      "Guantanamo Periodic Review Board Media Invitation Announced\n",
      "\n",
      "\n",
      "Feb. 13, 2019\n",
      "Press ..\n",
      "url : https://dod.defense.gov/News/Press-Advisories/Press-Advisory-View/Article/1756858/guantanamo-periodi ..\n",
      "scrap_time : 2019-03-03 06:07:39 ..\n",
      "\n",
      "\n",
      "title : Military Commissions Media Invitation Announced for United States v. Khalid Shaikh Mohammad et al. ..\n",
      "time : 2019-02-08 00:00:00 ..\n",
      "content : \n",
      "IMMEDIATE RELEASE\n",
      "Military Commissions Media Invitation Announced for United States v. Khalid Shaik ..\n",
      "url : https://dod.defense.gov/News/Press-Advisories/Press-Advisory-View/Article/1752920/military-commissio ..\n",
      "scrap_time : 2019-03-03 06:07:39 ..\n",
      "\n",
      "\n",
      "title : Acting Secretary Shanahan Remarks D-ISIS Press Statement ..\n",
      "time : 2019-02-16 00:00:00 ..\n",
      "content : \n",
      "\n",
      "                    \n",
      "                    \n",
      "                    \n",
      "                    Speech\n",
      "    ..\n",
      "url : https://dod.defense.gov/News/Speeches/Speech-View/Article/1759742/acting-secretary-shanahan-remarks- ..\n",
      "scrap_time : 2019-03-03 06:07:39 ..\n",
      "\n",
      "\n",
      "title : Remarks By Secretary Mattis at Pentagon September 11 Memorial Service ..\n",
      "time : 2018-09-11 00:00:00 ..\n",
      "content : \n",
      "\n",
      "                    Secretary of Defense \n",
      "                    \n",
      "                    \n",
      "           ..\n",
      "url : https://dod.defense.gov/News/Speeches/Speech-View/Article/1627866/remarks-by-secretary-mattis-at-pen ..\n",
      "scrap_time : 2019-03-03 06:07:40 ..\n",
      "\n",
      "\n",
      "title : 100 YEARS OF MATESHIP ..\n",
      "time : 2018-06-27 00:00:00 ..\n",
      "content : \n",
      "\n",
      "                    \n",
      "                    Deputy Secretary of Defense \n",
      "                    \n",
      "    ..\n",
      "url : https://dod.defense.gov/News/Speeches/Speech-View/Article/1561976/100-years-of-mateship/ ..\n",
      "scrap_time : 2019-03-03 06:07:40 ..\n",
      "\n",
      "\n"
     ]
    }
   ],
   "source": [
    "from DoD_scraper import parse_page\n",
    "def pprint(json_object):\n",
    "    for k, v in json_object.items():\n",
    "        print('{} : {} ..'.format(k, str(v)[:100]))\n",
    "    print('\\n')\n",
    "\n",
    "SLEEP = 0.5\n",
    "\n",
    "for url in news_urls[:3]:\n",
    "    json_object = parse_page(url)\n",
    "    pprint(json_object)\n",
    "\n",
    "for url in trans_urls[:3]:\n",
    "    json_object = parse_page(url)\n",
    "    pprint(json_object)\n",
    "\n",
    "for url in release_urls[:3]:\n",
    "    json_object = parse_page(url)\n",
    "    pprint(json_object)\n",
    "    \n",
    "for url in advisor_urls[:3]:\n",
    "    json_object = parse_page(url)\n",
    "    pprint(json_object)    \n",
    "    \n",
    "for url in speech_urls[:3]:\n",
    "    json_object = parse_page(url)\n",
    "    pprint(json_object)"
   ]
  },
  {
   "cell_type": "code",
   "execution_count": 5,
   "metadata": {},
   "outputs": [
    {
     "name": "stdout",
     "output_type": "stream",
     "text": [
      "[1 / 5] (2019-03-01 00:00:00) Proper Eating Increases Health Benefits, Readiness\n",
      "[2 / 5] (2019-03-01 00:00:00) Officials Explain U.S. Space Force Need, Culture\n",
      "[3 / 5] (2019-03-01 00:00:00) DOD Sends Space Force Legislation to Congress\n",
      "[4 / 5] (2019-02-28 00:00:00) NATO Secretary General Touts Trans-Atlantic Unity at Slovakian Convocation\n",
      "[5 / 5] (2019-02-28 00:00:00) Bush Service Dog Joins Ranks at Walter Reed\n"
     ]
    }
   ],
   "source": [
    "from DoD_scraper import get_latest_allnews\n",
    "\n",
    "begin_date = '2018-07-01'\n",
    "max_num = 5\n",
    "sleep = 1.0\n",
    "\n",
    "for i, json_obj in enumerate(get_latest_allnews(begin_date, max_num, sleep)):\n",
    "    title = json_obj['title']\n",
    "    time = json_obj['time']\n",
    "    print('[{} / {}] ({}) {}'.format(i+1, max_num, time, title))"
   ]
  },
  {
   "cell_type": "code",
   "execution_count": 6,
   "metadata": {},
   "outputs": [
    {
     "name": "stdout",
     "output_type": "stream",
     "text": [
      "[1 / 5] (2019-02-25 00:00:00) Military Commissions Media Invitation Announced for United States v. Majid Shoukat Khan, Pre-Sentencing Hearing\n",
      "[2 / 5] (2019-02-13 00:00:00) Guantanamo Periodic Review Board Media Invitation Announced\n",
      "[3 / 5] (2019-02-08 00:00:00) Military Commissions Media Invitation Announced for United States v. Khalid Shaikh Mohammad et al.\n",
      "[4 / 5] (2019-02-05 00:00:00) Military Commissions Media Invitation Announced for United States v. Abd al Hadi al Iraqi\n",
      "[5 / 5] (2019-01-28 00:00:00) Acting Secretary of Defense Patrick M. Shanahan to Brief at 9:30 a.m. on Tuesday, Jan 29.  \n"
     ]
    }
   ],
   "source": [
    "from DoD_scraper import get_latest_advisor\n",
    "\n",
    "begin_date = '2018-07-01'\n",
    "max_num = 5\n",
    "sleep = 1.0\n",
    "\n",
    "for i, json_obj in enumerate(get_latest_advisor(begin_date, max_num, sleep)):\n",
    "    title = json_obj['title']\n",
    "    time = json_obj['time']\n",
    "    print('[{} / {}] ({}) {}'.format(i+1, max_num, time, title))"
   ]
  },
  {
   "cell_type": "code",
   "execution_count": 7,
   "metadata": {},
   "outputs": [
    {
     "name": "stdout",
     "output_type": "stream",
     "text": [
      "[1 / 5] (2019-03-01 00:00:00) Proper Eating Increases Health Benefits, Readiness\n",
      "[2 / 5] (2019-03-01 00:00:00) Officials Explain U.S. Space Force Need, Culture\n",
      "[3 / 5] (2019-03-01 00:00:00) DOD Sends Space Force Legislation to Congress\n",
      "[4 / 5] (2019-02-28 00:00:00) NATO Secretary General Touts Trans-Atlantic Unity at Slovakian Convocation\n",
      "[5 / 5] (2019-02-28 00:00:00) Bush Service Dog Joins Ranks at Walter Reed\n"
     ]
    }
   ],
   "source": [
    "from DoD_scraper import get_latest_allrelease\n",
    "\n",
    "\n",
    "begin_date = '2018-07-01'\n",
    "max_num = 5\n",
    "sleep = 1.0\n",
    "\n",
    "for i, json_obj in enumerate(get_latest_allnews(begin_date, max_num, sleep)):\n",
    "    title = json_obj['title']\n",
    "    time = json_obj['time']\n",
    "    print('[{} / {}] ({}) {}'.format(i+1, max_num, time, title))"
   ]
  },
  {
   "cell_type": "code",
   "execution_count": 8,
   "metadata": {},
   "outputs": [
    {
     "name": "stdout",
     "output_type": "stream",
     "text": [
      "[1 / 5] (2019-02-23 00:00:00) En Route Gaggle by Acting Secretary Shanahan\n",
      "[2 / 5] (2019-02-22 00:00:00) Acting Secretary Shanahan and Minister Akar Remarks at the Opening of the Bilateral Meeting\n",
      "[3 / 5] (2019-02-22 00:00:00) Acting Secretary Shanahan and General Dunford Media Availability Prior to Honors Parade\n",
      "[4 / 5] (2019-02-21 00:00:00) Acting Secretary Shanahan Hosts Enhanced Honor Cordon and Meeting Welcoming Belgian Minister of Defense Didier Reynders to the Pentagon\n",
      "[5 / 5] (2019-02-16 00:00:00) En Route Press Gaggle By Acting Secretary Shanahan \n"
     ]
    }
   ],
   "source": [
    "from DoD_scraper import get_latest_alltrans\n",
    "\n",
    "begin_date = '2018-07-01'\n",
    "max_num = 5\n",
    "sleep = 1.0\n",
    "\n",
    "for i, json_obj in enumerate(get_latest_alltrans(begin_date, max_num, sleep)):\n",
    "    title = json_obj['title']\n",
    "    time = json_obj['time']\n",
    "    print('[{} / {}] ({}) {}'.format(i+1, max_num, time, title))"
   ]
  },
  {
   "cell_type": "code",
   "execution_count": 9,
   "metadata": {},
   "outputs": [
    {
     "name": "stdout",
     "output_type": "stream",
     "text": [
      "[1 / 5] (2019-02-16 00:00:00) Acting Secretary Shanahan Remarks D-ISIS Press Statement\n",
      "[2 / 5] (2018-09-11 00:00:00) Remarks By Secretary Mattis at Pentagon September 11 Memorial Service\n",
      "Stop scrapping. 2 / 5 news was scrapped\n",
      "The oldest news has been created after 2018-07-01\n"
     ]
    }
   ],
   "source": [
    "from DoD_scraper import get_latest_speech\n",
    "\n",
    "begin_date = '2018-07-01'\n",
    "max_num = 5\n",
    "sleep = 1.0\n",
    "\n",
    "for i, json_obj in enumerate(get_latest_speech(begin_date, max_num, sleep)):\n",
    "    title = json_obj['title']\n",
    "    time = json_obj['time']\n",
    "    print('[{} / {}] ({}) {}'.format(i+1, max_num, time, title))"
   ]
  }
 ],
 "metadata": {
  "kernelspec": {
   "display_name": "Python 3",
   "language": "python",
   "name": "python3"
  },
  "language_info": {
   "codemirror_mode": {
    "name": "ipython",
    "version": 3
   },
   "file_extension": ".py",
   "mimetype": "text/x-python",
   "name": "python",
   "nbconvert_exporter": "python",
   "pygments_lexer": "ipython3",
   "version": "3.7.1"
  },
  "varInspector": {
   "cols": {
    "lenName": 16,
    "lenType": 16,
    "lenVar": 40
   },
   "kernels_config": {
    "python": {
     "delete_cmd_postfix": "",
     "delete_cmd_prefix": "del ",
     "library": "var_list.py",
     "varRefreshCmd": "print(var_dic_list())"
    },
    "r": {
     "delete_cmd_postfix": ") ",
     "delete_cmd_prefix": "rm(",
     "library": "var_list.r",
     "varRefreshCmd": "cat(var_dic_list()) "
    }
   },
   "oldHeight": 122.545454,
   "position": {
    "height": "40px",
    "left": "1007.45px",
    "right": "20px",
    "top": "139px",
    "width": "250px"
   },
   "types_to_exclude": [
    "module",
    "function",
    "builtin_function_or_method",
    "instance",
    "_Feature"
   ],
   "varInspector_section_display": "none",
   "window_display": true
  }
 },
 "nbformat": 4,
 "nbformat_minor": 2
}
